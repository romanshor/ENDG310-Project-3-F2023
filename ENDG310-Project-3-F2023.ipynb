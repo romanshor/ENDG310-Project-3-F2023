{
 "cells": [
  {
   "cell_type": "markdown",
   "metadata": {},
   "source": [
    "# ENDG 310 Project #3\n",
    "\n",
    "## Newsfeeds and chatbots\n",
    "\n",
    "### Due Wednesday, December 6th at 5pm via github.  This project may be submitted by 5pm on Monday, December 10th with a 5% penalty.  There will be NO EXTENSIONS PAST THIS DATE.\n",
    "\n",
    "In this project, you will work in groups of two or three to create an **interactive** web application.  The application should allow for user input and interaction.  Some suggested applications could be:\n",
    "- An AI chatbot.  Via the web browser, a user can interact with an AI chatbot, such as ChatGPT.  You do not have to write the AI chatbot itself, but use an API to use an existing one.\n",
    "- A chat or newsfeed between multiple users.  Different users should be able to post messages and see messages from other users.  A single newsfeed for all users is ok - you do not need to implement any privacy features. \n",
    "\n",
    "Your system must have:\n",
    "- A clean and easy to use user interaface.  Spend some time making it look nice.  Some inspiration can be found [here](https://dribbble.com/tags/newsfeed).\n",
    "- An ability to maintain a history of messages sent for the current session.  You do not have to maintain the history between restarts of your server program.\n",
    "- Be able to run in a brower on your computer using `localhost` or `127.0.0.1`.  You do not have to host it in the cloud or on a server.\n",
    "\n",
    "There is room for creativity.  If you would like to propose a different type of web application, please talk to Dr. Shor.  Your application must be written in Python and must have a web interface of some form.  Dr. Shor's approval is required.\n",
    "\n",
    "## Requirements\n",
    "- You may use `.py` or `.ipynb` files.  \n",
    "- Your final submission must be uploaded to git.\n",
    "- The `README.md` file should provide description of your application, what it does, and how you implemented it.  You should include at least one screenshot of it working.\n",
    "- You may use any online resource for inspiration, however, you must cite all sources used outside of the course notes and Think Python textbook.\n",
    "- If you use ChatGPT, you must include the fundamental inputs used to generate output in ChatGPT as part of either your source files, or as a separate `ChatGPT_prompts.txt` file.\n",
    "- You must describe the contribution of each team member in the `README.md` file.  Each team member must contribute to and commit to the github project.\n",
    "\n",
    "\n",
    "## Rubric\n",
    "To get a 70/100 on this project, you must:\n",
    "- Have a basic web interface that allows you to send information to the server and for the response from the server to be displayed.  The server can respond with a series of prescribed messages.\n",
    "\n",
    "To get an 85/100 on this project, you must, in addition to the requirements above:\n",
    "- Allow for more than one user to connect to your server, or, to have an AI respond to messages.\n",
    "\n",
    "To get an 100/100 on this project, you must, in addition to the requirements for a 70/100:\n",
    "- Have a clean, easy to use and fully interactive interface that allows messages to be sent and responses seen in a modern view similar to a newfeed or chatbot of your choice."
   ]
  },
  {
   "cell_type": "code",
   "execution_count": null,
   "metadata": {},
   "outputs": [],
   "source": []
  }
 ],
 "metadata": {
  "kernelspec": {
   "display_name": "Python 3",
   "language": "python",
   "name": "python3"
  },
  "language_info": {
   "codemirror_mode": {
    "name": "ipython",
    "version": 3
   },
   "file_extension": ".py",
   "mimetype": "text/x-python",
   "name": "python",
   "nbconvert_exporter": "python",
   "pygments_lexer": "ipython3",
   "version": "3.8.3"
  }
 },
 "nbformat": 4,
 "nbformat_minor": 2
}
